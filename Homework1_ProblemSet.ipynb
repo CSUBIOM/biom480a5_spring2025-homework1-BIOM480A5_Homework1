{
 "cells": [
  {
   "cell_type": "markdown",
   "id": "bbe3f931-7cb6-4d10-9e0b-0228c145a880",
   "metadata": {},
   "source": [
    "# Notebook for Homework 1 "
   ]
  },
  {
   "cell_type": "code",
   "execution_count": 4,
   "id": "68311919-5c07-4475-a3d3-ba70c850e06e",
   "metadata": {
    "tags": []
   },
   "outputs": [],
   "source": [
    "# Preliminary Codes -- DO NOT CHANGE ANYTHING IN THIS SECTION\n",
    "import random, pickle\n",
    "import numpy as np\n",
    "import sys \n",
    "import hwk1\n",
    "from hwk1 import *"
   ]
  },
  {
   "cell_type": "markdown",
   "id": "ed37dd2e-0076-4b05-b594-4e28cda958bc",
   "metadata": {},
   "source": [
    "## Problem Set 1 - Basic Arithmetic and String Manipulation"
   ]
  },
  {
   "cell_type": "code",
   "execution_count": null,
   "id": "eb36cae3-6344-428b-9d97-ebe35b743109",
   "metadata": {
    "tags": []
   },
   "outputs": [],
   "source": [
    "print(welcomeMessage)"
   ]
  },
  {
   "cell_type": "code",
   "execution_count": null,
   "id": "b247572b",
   "metadata": {},
   "outputs": [],
   "source": [
    "# Q1 - Concatenate the following strings with a space between them (do not change the name - for now, let's assume that your name is John Doe).\n",
    "\n",
    "string_1 = 'Hello my name is'\n",
    "string_2 = 'John Doe'\n",
    "\n",
    "try:\n",
    "    q1 = 'xxx'/2  # Replace the garbage characters here with your answer\n",
    "except:\n",
    "    print('there was an error in Q1')\n",
    "    print('the error message was:', sys.exc_info())\n",
    "    pass\n",
    "\n",
    "# The above illustrates the use of a try-except block to prevent the code from crashing if the answer is not provided. You will\n",
    "# need to add thee try/except blocks to all questions if you want to run the code without fixing all errors.\n",
    "\n",
    "hwk1.saveResults()"
   ]
  },
  {
   "cell_type": "code",
   "execution_count": null,
   "id": "8f5fa2d5-598a-4244-a9ef-b0444bc67dc8",
   "metadata": {},
   "outputs": [],
   "source": [
    "# Q2 = Convert the following string so that all letters are now in uppercase.\n",
    "string_2 = 'i would like to be uppercase'\n",
    "\n",
    "# Make your changes below. Do not change the name of the variable above.\n",
    "q2 = 'xxx'\n",
    "\n",
    "hwk1.saveResults()"
   ]
  },
  {
   "cell_type": "code",
   "execution_count": null,
   "id": "d2f6938c-1036-4622-94c4-d03ed23ae5dd",
   "metadata": {
    "tags": []
   },
   "outputs": [],
   "source": [
    "# Q3 - use string formatting to construct the following string: \n",
    "# \"I bought [number] [fruit] on [day].\" where:\n",
    "#     [number] is replaced with the number value of the variable \"number\",\n",
    "#     [fruit] is replaced with the string value of the variable \"fruit\",\n",
    "#     [day] is replaced with the string value of the variable \"day\",\n",
    "#\n",
    "# Your random variables (which will change each time you restart this notebook) are:\n",
    "print(number)\n",
    "print(fruit)\n",
    "print(day)\n",
    "\n",
    "# Make your changes below here. Do not change the variable names above.\n",
    "q3 = 'xxx'  # Make sure your answer works for any random values of number, fruit, and day.\n",
    "\n",
    "hwk1.saveResults()"
   ]
  },
  {
   "cell_type": "code",
   "execution_count": null,
   "id": "adc7baac-3d62-400e-8e5b-a66eb12e117e",
   "metadata": {
    "tags": []
   },
   "outputs": [],
   "source": [
    "# Q4 - count the number of a's in the string \"string_4\"\n",
    "print(string_4)\n",
    "\n",
    "# Make your changes below here. Do not change the variables above.\n",
    "q4 = 123  # Make sure your answer works for any random sentance in string_4.\n",
    "\n",
    "hwk1.saveResults()"
   ]
  },
  {
   "cell_type": "code",
   "execution_count": null,
   "id": "87dfc22b-0d94-4cc6-ab7c-cd484c67c919",
   "metadata": {
    "tags": []
   },
   "outputs": [],
   "source": [
    "# Q5 - Strip \"string_5\" to remove all spaces and return the result as 'q5'\n",
    "print(string_5)\n",
    "\n",
    "# Make your changes below here. Do not change the variables above.\n",
    "q5 = 'xxx' # Make sure your answer works for any random sentance in string_5.\n",
    "\n",
    "hwk1.saveResults()"
   ]
  },
  {
   "cell_type": "code",
   "execution_count": null,
   "id": "57fe3ee3-f84f-4839-bed2-5ca82691a87c",
   "metadata": {
    "tags": []
   },
   "outputs": [],
   "source": [
    "# Q6 - How long is the string \"string_6\"?\n",
    "\n",
    "# Make your changes below here. Do not change the variables above.\n",
    "q6 = 123 # Make sure your answer works for any random sentance in string_6.\n",
    "\n",
    "hwk1.saveResults()"
   ]
  },
  {
   "cell_type": "code",
   "execution_count": null,
   "id": "5df84638-359e-4ce2-8e90-925c40614253",
   "metadata": {
    "tags": []
   },
   "outputs": [],
   "source": [
    "# Q7 - Write a STRING that contains the value of pi^[nPower]. \n",
    "# Use exponent form to the 3rd decimal point (e.g., 2.500e+00).\n",
    "pi = np.pi\n",
    "print(pi)\n",
    "print(nDigits)\n",
    "print(nPower)\n",
    "\n",
    "# Make your changes below here. Do not change the variables above.\n",
    "q7 = \"1.23456\"  # Replace 1.23456 with your answer. Make sure it has the right format.\n",
    "\n",
    "hwk1.saveResults()"
   ]
  },
  {
   "cell_type": "markdown",
   "id": "d6565fd5-b535-4571-84e9-2ea7a0c0c6ed",
   "metadata": {
    "tags": []
   },
   "source": [
    "## Problem Set 2 - Iterables, Slicing, and Sets"
   ]
  },
  {
   "cell_type": "code",
   "execution_count": null,
   "id": "478785c4-c27a-4e62-ab36-8695589b3291",
   "metadata": {
    "tags": []
   },
   "outputs": [],
   "source": [
    "# Q8 - Consider the numbers in the list \"xData\", and compute their average.\n",
    "print(xData)\n",
    "\n",
    "# Make your changes below here. Do not change the variables above.\n",
    "q8 = 1.23  # Change this to produce the average of the numbers in 'xData'\n",
    "\n",
    "hwk1.saveResults()"
   ]
  },
  {
   "cell_type": "code",
   "execution_count": null,
   "id": "52ccb85f-cbc6-46ab-ae0c-657d92d17cc1",
   "metadata": {
    "tags": []
   },
   "outputs": [],
   "source": [
    "# Q9 - What's the last entry in the list \"xData\".  Get this by slicing the list.\n",
    "print(xData)\n",
    "\n",
    "# Make your changes below here. Do not change the variables above.\n",
    "q9 = [1.23]  # Yuor answer should be a LIST with one number.\n",
    "\n",
    "hwk1.saveResults()"
   ]
  },
  {
   "cell_type": "code",
   "execution_count": null,
   "id": "1bac04df-6fb1-4ee9-ac15-9a21d5dbf087",
   "metadata": {},
   "outputs": [],
   "source": [
    "# Q10 - Convert between lists and sets to remove duplicate entries from the list \"List10\"\n",
    "print(List10)\n",
    "\n",
    "# Make your changes below here. Do not change the variables above.\n",
    "q10 = List10 # Your answer should be a list with no duplicates and should work for any random List10.\n",
    "\n",
    "hwk1.saveResults()"
   ]
  },
  {
   "cell_type": "code",
   "execution_count": null,
   "id": "84efaca0-7f30-4a5f-b973-054970681a64",
   "metadata": {},
   "outputs": [],
   "source": [
    "# Q11 - Combine the lists 'Student_IDs' and 'Student_names' into a dictionary keyed by the IDs. \n",
    "# i.e. Create a dictionary with pairs of { ID : student name }\n",
    "print(Student_IDs)\n",
    "print(Student_names)\n",
    "\n",
    "# Make your changes below here. Do not change the variables above.\n",
    "q11 = 'xxx' # Your answer should be a dictionary with the student IDs as keys and the names as values.  \n",
    "\n",
    "hwk1.saveResults()"
   ]
  },
  {
   "cell_type": "code",
   "execution_count": null,
   "id": "13f4c066-44df-4b82-a78d-4dd2ff590f03",
   "metadata": {
    "tags": []
   },
   "outputs": [],
   "source": [
    "# Q12 - Slice to get every other entry in the list 'List12'\n",
    "print(List12)\n",
    "\n",
    "# Make your changes below here. Do not change the variables above.\n",
    "q12 = 'xxx'  # Your answer should be a list with every other entry in List12.\n",
    "\n",
    "hwk1.saveResults()"
   ]
  }
 ],
 "metadata": {
  "kernelspec": {
   "display_name": "Python 3",
   "language": "python",
   "name": "python3"
  },
  "language_info": {
   "codemirror_mode": {
    "name": "ipython",
    "version": 3
   },
   "file_extension": ".py",
   "mimetype": "text/x-python",
   "name": "python",
   "nbconvert_exporter": "python",
   "pygments_lexer": "ipython3",
   "version": "3.10.16"
  }
 },
 "nbformat": 4,
 "nbformat_minor": 5
}
