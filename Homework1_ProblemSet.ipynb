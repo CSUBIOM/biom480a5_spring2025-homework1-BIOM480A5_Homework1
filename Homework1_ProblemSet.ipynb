{
 "cells": [
  {
   "cell_type": "markdown",
   "id": "bbe3f931-7cb6-4d10-9e0b-0228c145a880",
   "metadata": {},
   "source": [
    "# Notebook for Homework 1 "
   ]
  },
  {
   "cell_type": "code",
   "execution_count": 1,
   "id": "68311919-5c07-4475-a3d3-ba70c850e06e",
   "metadata": {
    "tags": []
   },
   "outputs": [],
   "source": [
    "# Preliminary Codes -- DO NOT CHANGE ANYTHING IN THIS SECTION\n",
    "import random, pickle\n",
    "import numpy as np\n",
    "import sys \n",
    "import hwk1\n",
    "from hwk1 import *"
   ]
  },
  {
   "cell_type": "markdown",
   "id": "ed37dd2e-0076-4b05-b594-4e28cda958bc",
   "metadata": {},
   "source": [
    "## Problem Set 1 - Basic Arithmetic and String Manipulation"
   ]
  },
  {
   "cell_type": "code",
   "execution_count": 2,
   "id": "eb36cae3-6344-428b-9d97-ebe35b743109",
   "metadata": {
    "tags": []
   },
   "outputs": [
    {
     "name": "stdout",
     "output_type": "stream",
     "text": [
      "Welcome to Homework 1!\n",
      "    This homework is designed to test your understanding of Python basics.\n",
      "    Please answer the questions in the homework by filling in the variables q1, q2, etc.\n",
      "    Each time you fill in a variables, run the saveResults() function to save your answers.\n",
      "    Good luck!\n"
     ]
    }
   ],
   "source": [
    "print(welcomeMessage)"
   ]
  },
  {
   "cell_type": "code",
   "execution_count": 3,
   "id": "b247572b",
   "metadata": {},
   "outputs": [
    {
     "name": "stdout",
     "output_type": "stream",
     "text": [
      "Your answers so far are:\n",
      "{'q1': 'Hello my name is Dmitri Svetlov', 'q2': 'XXX', 'q3': 'XXX', 'q4': 123, 'q5': 'XXX', 'q6': 123, 'q7': 'XXX', 'q8': 'xxx', 'q9': 'xxx', 'q10': ['apples', 'bananas', 'pears', 'pears', 'blueberries', 'apples', 'strawberries'], 'q11': 'xxx', 'q12': [1, 2, 3, 4, 5, 6, 7, 8]}\n"
     ]
    }
   ],
   "source": [
    "# Q1 - Concatenate the following strings with a space between them (do not change the name - for now, let's assume that your name is John Doe).\n",
    "\n",
    "string_1 = 'Hello my name is'\n",
    "string_2 = 'Dmitri Svetlov'\n",
    "\n",
    "try:\n",
    "    hwk1.q1 = '%s %s' % (string_1, string_2)\n",
    "except:\n",
    "    print('there was an error in Q1')\n",
    "    print('the error message was:', sys.exc_info())\n",
    "    pass\n",
    "\n",
    "# The above illustrates the use of a try-except block to prevent the code from crashing if the answer is not provided. You will\n",
    "# need to add thee try/except blocks to all questions if you want to run the code without fixing all errors.\n",
    "\n",
    "saveResults()"
   ]
  },
  {
   "cell_type": "code",
   "execution_count": 4,
   "id": "8f5fa2d5-598a-4244-a9ef-b0444bc67dc8",
   "metadata": {},
   "outputs": [
    {
     "name": "stdout",
     "output_type": "stream",
     "text": [
      "Your answers so far are:\n",
      "{'q1': 'Hello my name is Dmitri Svetlov', 'q2': 'I WOULD LIKE TO BE UPPERCASE', 'q3': 'XXX', 'q4': 123, 'q5': 'XXX', 'q6': 123, 'q7': 'XXX', 'q8': 'xxx', 'q9': 'xxx', 'q10': ['apples', 'bananas', 'pears', 'pears', 'blueberries', 'apples', 'strawberries'], 'q11': 'xxx', 'q12': [1, 2, 3, 4, 5, 6, 7, 8]}\n"
     ]
    }
   ],
   "source": [
    "# Q2 = Convert the following string so that all letters are now in uppercase.\n",
    "string_2 = 'i would like to be uppercase'\n",
    "\n",
    "# Make your changes below. Do not change the name of the variable above.\n",
    "hwk1.q2 = string_2.upper()\n",
    "\n",
    "saveResults()"
   ]
  },
  {
   "cell_type": "code",
   "execution_count": 5,
   "id": "d2f6938c-1036-4622-94c4-d03ed23ae5dd",
   "metadata": {
    "tags": []
   },
   "outputs": [
    {
     "name": "stdout",
     "output_type": "stream",
     "text": [
      "25\n",
      "apples\n",
      "Saturday\n",
      "Your answers so far are:\n",
      "{'q1': 'Hello my name is Dmitri Svetlov', 'q2': 'I WOULD LIKE TO BE UPPERCASE', 'q3': 'I bought 25 apples on Saturday.', 'q4': 123, 'q5': 'XXX', 'q6': 123, 'q7': 'XXX', 'q8': 'xxx', 'q9': 'xxx', 'q10': ['apples', 'bananas', 'pears', 'pears', 'blueberries', 'apples', 'strawberries'], 'q11': 'xxx', 'q12': [1, 2, 3, 4, 5, 6, 7, 8]}\n"
     ]
    }
   ],
   "source": [
    "# Q3 - use string formatting to construct the following string: \n",
    "# \"I bought [number] [fruit] on [day].\" where:\n",
    "#     [number] is replaced with the number value of the variable \"number\",\n",
    "#     [fruit] is replaced with the string value of the variable \"fruit\",\n",
    "#     [day] is replaced with the string value of the variable \"day\",\n",
    "#\n",
    "# Your random variables (which will change each time you restart this notebook) are:\n",
    "print(number)\n",
    "print(fruit)\n",
    "print(day)\n",
    "\n",
    "# Make your changes below here. Do not change the variable names above.\n",
    "hwk1.q3 = 'I bought %d %s on %s.' % (number, fruit, day)\n",
    "\n",
    "saveResults()"
   ]
  },
  {
   "cell_type": "code",
   "execution_count": 6,
   "id": "adc7baac-3d62-400e-8e5b-a66eb12e117e",
   "metadata": {
    "tags": []
   },
   "outputs": [
    {
     "name": "stdout",
     "output_type": "stream",
     "text": [
      "An alacritous abalone accelerates along an alarming aquatic ascent.\n",
      "Your answers so far are:\n",
      "{'q1': 'Hello my name is Dmitri Svetlov', 'q2': 'I WOULD LIKE TO BE UPPERCASE', 'q3': 'I bought 25 apples on Saturday.', 'q4': 13, 'q5': 'XXX', 'q6': 123, 'q7': 'XXX', 'q8': 'xxx', 'q9': 'xxx', 'q10': ['apples', 'bananas', 'pears', 'pears', 'blueberries', 'apples', 'strawberries'], 'q11': 'xxx', 'q12': [1, 2, 3, 4, 5, 6, 7, 8]}\n"
     ]
    }
   ],
   "source": [
    "# Q4 - count the number of a's in the string \"string_4\"\n",
    "print(string_4)\n",
    "\n",
    "# Make your changes below here. Do not change the variables above.\n",
    "hwk1.q4 = string_4.count('a')\n",
    "\n",
    "saveResults()"
   ]
  },
  {
   "cell_type": "code",
   "execution_count": 7,
   "id": "87dfc22b-0d94-4cc6-ab7c-cd484c67c919",
   "metadata": {
    "tags": []
   },
   "outputs": [
    {
     "name": "stdout",
     "output_type": "stream",
     "text": [
      "A                       large space was here.\n",
      "Your answers so far are:\n",
      "{'q1': 'Hello my name is Dmitri Svetlov', 'q2': 'I WOULD LIKE TO BE UPPERCASE', 'q3': 'I bought 25 apples on Saturday.', 'q4': 13, 'q5': 'Alargespacewashere.', 'q6': 123, 'q7': 'XXX', 'q8': 'xxx', 'q9': 'xxx', 'q10': ['apples', 'bananas', 'pears', 'pears', 'blueberries', 'apples', 'strawberries'], 'q11': 'xxx', 'q12': [1, 2, 3, 4, 5, 6, 7, 8]}\n"
     ]
    }
   ],
   "source": [
    "# Q5 - Strip \"string_5\" to remove all spaces and return the result as 'q5'\n",
    "print(string_5)\n",
    "\n",
    "# Make your changes below here. Do not change the variables above.\n",
    "hwk1.q5 = string_5.replace(' ', '')\n",
    "\n",
    "saveResults()"
   ]
  },
  {
   "cell_type": "code",
   "execution_count": 8,
   "id": "57fe3ee3-f84f-4839-bed2-5ca82691a87c",
   "metadata": {
    "tags": []
   },
   "outputs": [
    {
     "name": "stdout",
     "output_type": "stream",
     "text": [
      "Your answers so far are:\n",
      "{'q1': 'Hello my name is Dmitri Svetlov', 'q2': 'I WOULD LIKE TO BE UPPERCASE', 'q3': 'I bought 25 apples on Saturday.', 'q4': 13, 'q5': 'Alargespacewashere.', 'q6': 216, 'q7': 'XXX', 'q8': 'xxx', 'q9': 'xxx', 'q10': ['apples', 'bananas', 'pears', 'pears', 'blueberries', 'apples', 'strawberries'], 'q11': 'xxx', 'q12': [1, 2, 3, 4, 5, 6, 7, 8]}\n"
     ]
    }
   ],
   "source": [
    "# Q6 - How long is the string \"string_6\"?\n",
    "\n",
    "# Make your changes below here. Do not change the variables above.\n",
    "hwk1.q6 = len(string_6)\n",
    "\n",
    "saveResults()"
   ]
  },
  {
   "cell_type": "code",
   "execution_count": 9,
   "id": "5df84638-359e-4ce2-8e90-925c40614253",
   "metadata": {
    "tags": []
   },
   "outputs": [
    {
     "name": "stdout",
     "output_type": "stream",
     "text": [
      "3.141592653589793\n",
      "6\n",
      "3\n",
      "Your answers so far are:\n",
      "{'q1': 'Hello my name is Dmitri Svetlov', 'q2': 'I WOULD LIKE TO BE UPPERCASE', 'q3': 'I bought 25 apples on Saturday.', 'q4': 13, 'q5': 'Alargespacewashere.', 'q6': 216, 'q7': '3.101e+01', 'q8': 'xxx', 'q9': 'xxx', 'q10': ['apples', 'bananas', 'pears', 'pears', 'blueberries', 'apples', 'strawberries'], 'q11': 'xxx', 'q12': [1, 2, 3, 4, 5, 6, 7, 8]}\n"
     ]
    }
   ],
   "source": [
    "# Q7 - Write a STRING that contains the value of pi^[nPower]. \n",
    "# Use exponent form to the 3rd decimal point (e.g., 2.500e+00).\n",
    "pi = np.pi\n",
    "print(pi)\n",
    "print(nDigits)\n",
    "print(nPower)\n",
    "\n",
    "# Make your changes below here. Do not change the variables above.\n",
    "hwk1.q7 = '%.3e' % (np.power(pi, nPower))\n",
    "\n",
    "saveResults()"
   ]
  },
  {
   "cell_type": "markdown",
   "id": "d6565fd5-b535-4571-84e9-2ea7a0c0c6ed",
   "metadata": {
    "tags": []
   },
   "source": [
    "## Problem Set 2 - Iterables, Slicing, and Sets"
   ]
  },
  {
   "cell_type": "code",
   "execution_count": 10,
   "id": "478785c4-c27a-4e62-ab36-8695589b3291",
   "metadata": {
    "tags": []
   },
   "outputs": [
    {
     "name": "stdout",
     "output_type": "stream",
     "text": [
      "[55.41761939024887, 30.429431372880135, 73.87875696659373, 64.67182595415373, 81.10148410294363, 73.08378501772802, 51.90614365321225, 65.22062505241661, 53.98699349139046, 48.70184708638538, 62.61161618495426, 41.22414594007201, 13.116864478898393, 50.91893143014591, 54.050684396292084, 32.994680520313324, 47.90044846173287, 36.274240084999086, 3.6806599980324317, 22.07481220336388]\n",
      "Your answers so far are:\n",
      "{'q1': 'Hello my name is Dmitri Svetlov', 'q2': 'I WOULD LIKE TO BE UPPERCASE', 'q3': 'I bought 25 apples on Saturday.', 'q4': 13, 'q5': 'Alargespacewashere.', 'q6': 216, 'q7': '3.101e+01', 'q8': 48.16227978933785, 'q9': 'xxx', 'q10': ['apples', 'bananas', 'pears', 'pears', 'blueberries', 'apples', 'strawberries'], 'q11': 'xxx', 'q12': [1, 2, 3, 4, 5, 6, 7, 8]}\n"
     ]
    }
   ],
   "source": [
    "# Q8 - Consider the numbers in the list \"xData\", and compute their average.\n",
    "print(xData)\n",
    "\n",
    "# Make your changes below here. Do not change the variables above.\n",
    "hwk1.q8 = np.mean(xData)\n",
    "\n",
    "saveResults()"
   ]
  },
  {
   "cell_type": "code",
   "execution_count": 11,
   "id": "52ccb85f-cbc6-46ab-ae0c-657d92d17cc1",
   "metadata": {
    "tags": []
   },
   "outputs": [
    {
     "name": "stdout",
     "output_type": "stream",
     "text": [
      "[55.41761939024887, 30.429431372880135, 73.87875696659373, 64.67182595415373, 81.10148410294363, 73.08378501772802, 51.90614365321225, 65.22062505241661, 53.98699349139046, 48.70184708638538, 62.61161618495426, 41.22414594007201, 13.116864478898393, 50.91893143014591, 54.050684396292084, 32.994680520313324, 47.90044846173287, 36.274240084999086, 3.6806599980324317, 22.07481220336388]\n",
      "Your answers so far are:\n",
      "{'q1': 'Hello my name is Dmitri Svetlov', 'q2': 'I WOULD LIKE TO BE UPPERCASE', 'q3': 'I bought 25 apples on Saturday.', 'q4': 13, 'q5': 'Alargespacewashere.', 'q6': 216, 'q7': '3.101e+01', 'q8': 48.16227978933785, 'q9': 22.07481220336388, 'q10': ['apples', 'bananas', 'pears', 'pears', 'blueberries', 'apples', 'strawberries'], 'q11': 'xxx', 'q12': [1, 2, 3, 4, 5, 6, 7, 8]}\n"
     ]
    }
   ],
   "source": [
    "# Q9 - What's the last entry in the list \"xData\".  Get this by slicing the list.\n",
    "print(xData)\n",
    "\n",
    "# Make your changes below here. Do not change the variables above.\n",
    "hwk1.q9 = xData[-1]\n",
    "\n",
    "saveResults()"
   ]
  },
  {
   "cell_type": "code",
   "execution_count": 12,
   "id": "1bac04df-6fb1-4ee9-ac15-9a21d5dbf087",
   "metadata": {},
   "outputs": [
    {
     "name": "stdout",
     "output_type": "stream",
     "text": [
      "['apples', 'bananas', 'pears', 'pears', 'blueberries', 'apples', 'strawberries']\n",
      "Your answers so far are:\n",
      "{'q1': 'Hello my name is Dmitri Svetlov', 'q2': 'I WOULD LIKE TO BE UPPERCASE', 'q3': 'I bought 25 apples on Saturday.', 'q4': 13, 'q5': 'Alargespacewashere.', 'q6': 216, 'q7': '3.101e+01', 'q8': 48.16227978933785, 'q9': 22.07481220336388, 'q10': ['apples', 'pears', 'blueberries', 'bananas', 'strawberries'], 'q11': 'xxx', 'q12': [1, 2, 3, 4, 5, 6, 7, 8]}\n"
     ]
    }
   ],
   "source": [
    "# Q10 - Convert between lists and sets to remove duplicate entries from the list \"List10\"\n",
    "print(List10)\n",
    "\n",
    "# Make your changes below here. Do not change the variables above.\n",
    "hwk1.q10 = list(set(List10))\n",
    "\n",
    "saveResults()"
   ]
  },
  {
   "cell_type": "code",
   "execution_count": 13,
   "id": "84efaca0-7f30-4a5f-b973-054970681a64",
   "metadata": {},
   "outputs": [
    {
     "name": "stdout",
     "output_type": "stream",
     "text": [
      "[1, 2, 3, 4, 5]\n",
      "['Jim', 'John', 'Jenna', 'Jamal', 'Jaden']\n",
      "Your answers so far are:\n",
      "{'q1': 'Hello my name is Dmitri Svetlov', 'q2': 'I WOULD LIKE TO BE UPPERCASE', 'q3': 'I bought 25 apples on Saturday.', 'q4': 13, 'q5': 'Alargespacewashere.', 'q6': 216, 'q7': '3.101e+01', 'q8': 48.16227978933785, 'q9': 22.07481220336388, 'q10': ['apples', 'pears', 'blueberries', 'bananas', 'strawberries'], 'q11': {1: 'Jim', 2: 'John', 3: 'Jenna', 4: 'Jamal', 5: 'Jaden'}, 'q12': [1, 2, 3, 4, 5, 6, 7, 8]}\n"
     ]
    }
   ],
   "source": [
    "# Q11 - Combine the lists 'Student_IDs' and 'Student_names' into a dictionary keyed by the IDs. \n",
    "# i.e. Create a dictionary with pairs of { ID : student name }\n",
    "print(Student_IDs)\n",
    "print(Student_names)\n",
    "\n",
    "q11 = dict()\n",
    "for idx in range(len(Student_IDs)):\n",
    "    q11[Student_IDs[idx]] = Student_names[idx]\n",
    "\n",
    "# Make your changes below here. Do not change the variables above.\n",
    "hwk1.q11 = q11\n",
    "\n",
    "saveResults()"
   ]
  },
  {
   "cell_type": "code",
   "execution_count": 14,
   "id": "13f4c066-44df-4b82-a78d-4dd2ff590f03",
   "metadata": {
    "tags": []
   },
   "outputs": [
    {
     "name": "stdout",
     "output_type": "stream",
     "text": [
      "[1, 2, 3, 4, 5, 6, 7, 8]\n",
      "Your answers so far are:\n",
      "{'q1': 'Hello my name is Dmitri Svetlov', 'q2': 'I WOULD LIKE TO BE UPPERCASE', 'q3': 'I bought 25 apples on Saturday.', 'q4': 13, 'q5': 'Alargespacewashere.', 'q6': 216, 'q7': '3.101e+01', 'q8': 48.16227978933785, 'q9': 22.07481220336388, 'q10': ['apples', 'pears', 'blueberries', 'bananas', 'strawberries'], 'q11': {1: 'Jim', 2: 'John', 3: 'Jenna', 4: 'Jamal', 5: 'Jaden'}, 'q12': [1, 3, 5, 7]}\n"
     ]
    }
   ],
   "source": [
    "# Q12 - Slice to get every other entry in the list 'List12'\n",
    "print(List12)\n",
    "\n",
    "# Make your changes below here. Do not change the variables above.\n",
    "hwk1.q12 = List12[::2]\n",
    "\n",
    "saveResults()"
   ]
  },
  {
   "cell_type": "code",
   "execution_count": null,
   "id": "fe2c4f3c-f70e-4734-bc65-f3de16ea8605",
   "metadata": {},
   "outputs": [],
   "source": []
  }
 ],
 "metadata": {
  "kernelspec": {
   "display_name": "Python 3 (Spyder)",
   "language": "python3",
   "name": "python3"
  },
  "language_info": {
   "codemirror_mode": {
    "name": "ipython",
    "version": 3
   },
   "file_extension": ".py",
   "mimetype": "text/x-python",
   "name": "python",
   "nbconvert_exporter": "python",
   "pygments_lexer": "ipython3",
   "version": "3.9.18"
  }
 },
 "nbformat": 4,
 "nbformat_minor": 5
}
